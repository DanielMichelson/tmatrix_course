{
 "cells": [
  {
   "cell_type": "markdown",
   "metadata": {},
   "source": [
    "# SINGLE PARTICLE"
   ]
  },
  {
   "cell_type": "markdown",
   "metadata": {},
   "source": [
    "###Minimum usage\n",
    "Import tmatrix module and initialize a Scatterer object with default values"
   ]
  },
  {
   "cell_type": "code",
   "execution_count": null,
   "metadata": {
    "collapsed": false
   },
   "outputs": [],
   "source": [
    "%pylab inline\n",
    "\n",
    "from pytmatrix import tmatrix\n",
    "scatterer = tmatrix.Scatterer() # use default values"
   ]
  },
  {
   "cell_type": "markdown",
   "metadata": {},
   "source": [
    "###Check default values"
   ]
  },
  {
   "cell_type": "code",
   "execution_count": null,
   "metadata": {
    "collapsed": false
   },
   "outputs": [],
   "source": [
    "print 'default radius ' , scatterer.radius\n",
    "print 'default axis ratio' , scatterer.axis_ratio\n",
    "print 'default wavelength' , scatterer.wavelength\n",
    "print 'default index of refraction' , scatterer.m\n",
    "print 'default scattering geometry', scatterer.get_geometry()"
   ]
  },
  {
   "cell_type": "markdown",
   "metadata": {},
   "source": [
    "###Print S and Z matrices"
   ]
  },
  {
   "cell_type": "code",
   "execution_count": null,
   "metadata": {
    "collapsed": false,
    "scrolled": true,
    "slideshow": {
     "slide_type": "slide"
    }
   },
   "outputs": [],
   "source": [
    "print 'S complex matrix\\n', scatterer.get_S() , '\\n\\n'\n",
    "print 'Z real matrix\\n',scatterer.get_Z()"
   ]
  },
  {
   "cell_type": "markdown",
   "metadata": {},
   "source": [
    "###Define a Scatterer with radius=1, wavelength=10.0, m=1.5+j0.5 and axis ratio=2"
   ]
  },
  {
   "cell_type": "code",
   "execution_count": null,
   "metadata": {
    "collapsed": false
   },
   "outputs": [],
   "source": [
    "scatterer = tmatrix.Scatterer(radius=1.0, wavelength=10.0, m=complex(5.5, 0.005), axis_ratio=1.0/0.5)\n",
    "print 'S complex matrix\\n', scatterer.get_S() , '\\n\\n'\n",
    "print 'Z real matrix\\n', scatterer.get_Z()"
   ]
  },
  {
   "cell_type": "markdown",
   "metadata": {},
   "source": [
    "###Leverage the tmatrix_aux and refractive modules to define scatterer properties\n",
    "First print list of available methods and attributes.\n",
    "pytmatrix is a really well documented code. Use help(module_name) whenever you need"
   ]
  },
  {
   "cell_type": "code",
   "execution_count": null,
   "metadata": {
    "collapsed": false
   },
   "outputs": [],
   "source": [
    "from pytmatrix import tmatrix_aux as aux\n",
    "from pytmatrix import refractive as ref\n",
    "help(aux)\n",
    "help(ref)"
   ]
  },
  {
   "cell_type": "code",
   "execution_count": null,
   "metadata": {
    "collapsed": false
   },
   "outputs": [],
   "source": [
    "rad = 10.0\n",
    "scatterer = tmatrix.Scatterer(radius=rad, wavelength=aux.wl_C, m=ref.m_w_10C[aux.wl_C], \n",
    "                              axis_ratio=1.0/aux.dsr_thurai_2007(rad))"
   ]
  },
  {
   "cell_type": "markdown",
   "metadata": {
    "collapsed": false
   },
   "source": [
    "###Print some scattering quantities"
   ]
  },
  {
   "cell_type": "code",
   "execution_count": null,
   "metadata": {
    "collapsed": false
   },
   "outputs": [],
   "source": [
    "from pytmatrix import scatter\n",
    "print 'scattered intensity \\t\\t', scatter.sca_intensity(scatterer=scatterer) # default is h_pol=True\n",
    "print 'extinction cross section \\t' , scatter.ext_xsect(scatterer=scatterer)\n",
    "print 'scattering cross section \\t' , scatter.sca_xsect(scatterer=scatterer)\n",
    "print 'single scattering albedo \\t' , scatter.ssa(scatterer=scatterer)\n",
    "print 'linear depolarization ratio \\t' , scatter.ldr(scatterer=scatterer)\n",
    "print 'asymmetry parameter \\t\\t' , scatter.asym(scatterer=scatterer)\n",
    "\n",
    "from pytmatrix import radar\n",
    "print '\\nreflectivity\\t\\t\\t' , radar.refl(scatterer=scatterer)\n",
    "print 'radar cross section\\t\\t', radar.radar_xsect(scatterer=scatterer)\n",
    "print 'differential reflectivity\\t', radar.Zdr(scatterer=scatterer)\n",
    "print 'radar linear depol ratio\\t',radar.ldr(scatterer=scatterer)"
   ]
  },
  {
   "cell_type": "markdown",
   "metadata": {},
   "source": [
    "###Try to change particle orientation and watch the effect on scattering properties\n",
    "Be sure both alpha and beta are inside their domains\n",
    "alpha = [0, 360]\n",
    "beta  = [0, 180]\n",
    "otherwise the computation will crash\n",
    "\n",
    "You can also try and print other quantities if you are interested in\n",
    "Type scatter.<tab> and the list of scatter methods will appear\n",
    "Same for radar.<tab>"
   ]
  },
  {
   "cell_type": "code",
   "execution_count": null,
   "metadata": {
    "collapsed": false
   },
   "outputs": [],
   "source": [
    "scatterer.beta = 30\n",
    "scatterer.alpha = 30\n",
    "\n",
    "print 'scattered intensity \\t\\t', scatter.sca_intensity(scatterer=scatterer) # default is h_pol=True\n",
    "print 'extinction cross section \\t' , scatter.ext_xsect(scatterer=scatterer)\n",
    "print 'scattering cross section \\t' , scatter.sca_xsect(scatterer=scatterer)\n",
    "print 'single scattering albedo \\t' , scatter.ssa(scatterer=scatterer)\n",
    "print 'linear depolarization ratio \\t' , scatter.ldr(scatterer=scatterer)\n",
    "print 'asymmetry parameter \\t\\t' , scatter.asym(scatterer=scatterer)\n",
    "\n",
    "print '\\nreflectivity\\t\\t\\t' , radar.refl(scatterer=scatterer)\n",
    "print 'radar cross section\\t\\t', radar.radar_xsect(scatterer=scatterer)\n",
    "print 'differential reflectivity\\t', radar.Zdr(scatterer=scatterer)\n",
    "print 'radar linear depol ratio\\t',radar.ldr(scatterer=scatterer)"
   ]
  },
  {
   "cell_type": "markdown",
   "metadata": {
    "collapsed": false
   },
   "source": [
    "###Plot your favorite scattering quantity on a mesh of orientation angle"
   ]
  },
  {
   "cell_type": "code",
   "execution_count": null,
   "metadata": {
    "collapsed": false
   },
   "outputs": [],
   "source": [
    "import numpy as np\n",
    "num_alpha = 180\n",
    "num_beta = 180\n",
    "alphas = np.zeros((num_alpha,num_beta))\n",
    "betas = np.zeros((num_alpha,num_beta))\n",
    "result = np.zeros((num_alpha,num_beta))\n",
    "\n",
    "alphas, betas = np.meshgrid(np.linspace(0,360,num_alpha),np.linspace(0,180,num_beta))\n",
    "\n",
    "for a in range(0,num_alpha):\n",
    "    for b in range(0,num_beta):\n",
    "        scatterer.beta = betas[a,b]\n",
    "        scatterer.alpha = alphas[a,b]\n",
    "        result[a,b] = scatter.ldr(scatterer=scatterer) # I choose ldr"
   ]
  },
  {
   "cell_type": "code",
   "execution_count": null,
   "metadata": {
    "collapsed": false
   },
   "outputs": [],
   "source": [
    "import matplotlib.pyplot as plt\n",
    "from matplotlib import cm\n",
    "from mpl_toolkits.mplot3d import Axes3D\n",
    "\n",
    "## tricks\n",
    "## If the plot looks ugly due to some sparse numerical problems try to clean the results with these commands\n",
    "#result[np.isinf(result)] = 0.0\n",
    "#result[result > 1e8] = 0.0\n",
    "##\n",
    "\n",
    "fig = plt.figure()\n",
    "ax = fig.gca(projection='3d')\n",
    "surf = ax.plot_surface(alphas, betas, result,rstride=2, cstride=2, cmap=cm.coolwarm, linewidth=0, antialiased=False)\n",
    "plt.xlabel('alpha')\n",
    "plt.ylabel('betal')"
   ]
  },
  {
   "cell_type": "code",
   "execution_count": null,
   "metadata": {
    "collapsed": true
   },
   "outputs": [],
   "source": []
  }
 ],
 "metadata": {
  "kernelspec": {
   "display_name": "Python 2",
   "language": "python",
   "name": "python2"
  },
  "language_info": {
   "codemirror_mode": {
    "name": "ipython",
    "version": 2
   },
   "file_extension": ".py",
   "mimetype": "text/x-python",
   "name": "python",
   "nbconvert_exporter": "python",
   "pygments_lexer": "ipython2",
   "version": "2.7.6"
  }
 },
 "nbformat": 4,
 "nbformat_minor": 0
}
